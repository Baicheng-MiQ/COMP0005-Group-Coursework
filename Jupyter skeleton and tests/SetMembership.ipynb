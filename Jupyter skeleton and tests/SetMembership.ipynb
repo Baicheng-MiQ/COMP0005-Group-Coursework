{
 "cells": [
  {
   "cell_type": "markdown",
   "metadata": {},
   "source": [
    "# Set Membership"
   ]
  },
  {
   "cell_type": "markdown",
   "metadata": {},
   "source": [
    "The cell below defines two **abstract classes**: the first represents a set and basic insert/search operations on it. You will need to impement this API four times, to implement (1) sequential search, (2) binary search tree, (3) balanced search tree, and (4) bloom filter. The second defines the synthetic data generator you will need to implement as part of your experimental framework. <br><br>**Do NOT modify the next cell** - use the dedicated cells further below for your implementation instead. <br>"
   ]
  },
  {
   "cell_type": "code",
   "execution_count": 4,
   "metadata": {},
   "outputs": [],
   "source": [
    "# DO NOT MODIFY THIS CELL\n",
    "\n",
    "from abc import ABC, abstractmethod  \n",
    "\n",
    "# abstract class to represent a set and its insert/search operations\n",
    "class AbstractSet(ABC):\n",
    "    \n",
    "    # constructor\n",
    "    @abstractmethod\n",
    "    def __init__(self):\n",
    "        pass           \n",
    "        \n",
    "    # inserts \"element\" in the set\n",
    "    # returns \"True\" after successful insertion, \"False\" if the element is already in the set\n",
    "    # element : str\n",
    "    # inserted : bool\n",
    "    @abstractmethod\n",
    "    def insertElement(self, element):     \n",
    "        inserted = False\n",
    "        return inserted   \n",
    "    \n",
    "    # checks whether \"element\" is in the set\n",
    "    # returns \"True\" if it is, \"False\" otherwise\n",
    "    # element : str\n",
    "    # found : bool\n",
    "    @abstractmethod\n",
    "    def searchElement(self, element):\n",
    "        found = False\n",
    "        return found    \n",
    "    \n",
    "    \n",
    "    \n",
    "# abstract class to represent a synthetic data generator\n",
    "class AbstractTestDataGenerator(ABC):\n",
    "    \n",
    "    # constructor\n",
    "    @abstractmethod\n",
    "    def __init__(self):\n",
    "        pass           \n",
    "        \n",
    "    # creates and returns a list of length \"size\" of strings\n",
    "    # size : int\n",
    "    # data : list<str>\n",
    "    @abstractmethod\n",
    "    def generateData(self, size):     \n",
    "        data = [\"\"]*size\n",
    "        return data   \n"
   ]
  },
  {
   "cell_type": "markdown",
   "metadata": {},
   "source": [
    "Use the cell below to define any auxiliary data structure and python function you may need. Leave the implementation of the main API to the next code cells instead."
   ]
  },
  {
   "cell_type": "code",
   "execution_count": 5,
   "metadata": {},
   "outputs": [],
   "source": [
    "# ADD AUXILIARY DATA STRUCTURE DEFINITIONS AND HELPER CODE HERE\n",
    "\n"
   ]
  },
  {
   "cell_type": "markdown",
   "metadata": {},
   "source": [
    "Use the cell below to implement the requested API by means of **sequential search**."
   ]
  },
  {
   "cell_type": "code",
   "execution_count": 6,
   "metadata": {},
   "outputs": [],
   "source": [
    "class SequentialSearchSet(AbstractSet):\n",
    "    \n",
    "    def __init__(self):\n",
    "        # ADD YOUR CODE HERE\n",
    "        self.val = []\n",
    "     \n",
    "    def insertElement(self, element):\n",
    "        inserted = False\n",
    "        # ADD YOUR CODE HERE\n",
    "        if element not in self.val:\n",
    "            self.val.append(element)\n",
    "            inserted = True\n",
    "        return inserted\n",
    "\n",
    "    def searchElement(self, element):     \n",
    "        found = False\n",
    "        # ADD YOUR CODE HERE\n",
    "        if element in self.val:\n",
    "            found = True\n",
    "        return found    "
   ]
  },
  {
   "cell_type": "code",
   "execution_count": 7,
   "metadata": {},
   "outputs": [
    {
     "name": "stdout",
     "output_type": "stream",
     "text": [
      "✅ Sequential search correctness test passed\n"
     ]
    }
   ],
   "source": [
    "# Delete this cell before submission.\n",
    "def sequentialCorrectnessTest():\n",
    "    test = SequentialSearchSet()\n",
    "    assert test.insertElement(\"a\") == True\n",
    "    assert test.insertElement(\"b\") == True\n",
    "    assert test.insertElement(\"c\") == True\n",
    "    assert test.insertElement(\"a\") == False\n",
    "    assert test.insertElement(\"b\") == False\n",
    "    assert test.insertElement(\"c\") == False\n",
    "    assert test.searchElement(\"a\") == True\n",
    "    assert test.searchElement(\"b\") == True\n",
    "    assert test.searchElement(\"c\") == True\n",
    "    assert test.searchElement(\"d\") == False\n",
    "    assert test.searchElement(\"e\") == False\n",
    "    assert test.searchElement(\"f\") == False\n",
    "    print(\"✅ Sequential search correctness test passed\")\n",
    "\n",
    "sequentialCorrectnessTest()"
   ]
  },
  {
   "cell_type": "markdown",
   "metadata": {},
   "source": [
    "Use the cell below to implement the requested API by means of **binary search tree**."
   ]
  },
  {
   "cell_type": "code",
   "execution_count": 8,
   "metadata": {},
   "outputs": [],
   "source": [
    "class BinarySearchTreeSet(AbstractSet):\n",
    "    \n",
    "    def __init__(self, val, left=None, right=None):\n",
    "        # ADD YOUR CODE HERE\n",
    "        self.val = val\n",
    "        self.left = left\n",
    "        self.right = right\n",
    "        pass           \n",
    "     \n",
    "    \n",
    "        \n",
    "    def insertElement(self, element):\n",
    "        inserted = False\n",
    "        # ADD YOUR CODE HERE\n",
    "        if self.val == None: # if the tree is empty\n",
    "            self.val = element\n",
    "            inserted = True\n",
    "            return inserted\n",
    "        \n",
    "        # traverse the tree\n",
    "        thisNode = self\n",
    "        while thisNode:\n",
    "            if element < thisNode.val:\n",
    "                if thisNode.left:\n",
    "                    thisNode = thisNode.left\n",
    "                else:\n",
    "                    thisNode.left = BinarySearchTreeSet(element)\n",
    "                    inserted = True\n",
    "                    break\n",
    "            elif element > thisNode.val:\n",
    "                if thisNode.right:\n",
    "                    thisNode = thisNode.right\n",
    "                else:\n",
    "                    thisNode.right = BinarySearchTreeSet(element)\n",
    "                    inserted = True\n",
    "                    break\n",
    "            else:\n",
    "                break\n",
    "        return inserted\n",
    "    \n",
    "    def searchElement(self, element):     \n",
    "        found = False\n",
    "        # ADD YOUR CODE HERE\n",
    "        thisNode = self\n",
    "        while thisNode:\n",
    "            if element < thisNode.val:\n",
    "                thisNode = thisNode.left\n",
    "            elif element > thisNode.val:\n",
    "                thisNode = thisNode.right\n",
    "            else:\n",
    "                found = True\n",
    "                break\n",
    "        \n",
    "        return found    "
   ]
  },
  {
   "cell_type": "code",
   "execution_count": 9,
   "metadata": {},
   "outputs": [
    {
     "name": "stdout",
     "output_type": "stream",
     "text": [
      "✅ Binary tree correctness test passed\n"
     ]
    }
   ],
   "source": [
    "# Delete this cell before submission.\n",
    "def binaryTreeCorrectnessTest():\n",
    "    test = BinarySearchTreeSet(None)\n",
    "    assert test.insertElement(\"a\") == True\n",
    "    assert test.insertElement(\"b\") == True\n",
    "    assert test.insertElement(\"c\") == True\n",
    "    assert test.insertElement(\"a\") == False\n",
    "    assert test.insertElement(\"b\") == False\n",
    "    assert test.insertElement(\"c\") == False\n",
    "    assert test.searchElement(\"a\") == True\n",
    "    assert test.searchElement(\"b\") == True\n",
    "    assert test.searchElement(\"c\") == True\n",
    "    assert test.searchElement(\"d\") == False\n",
    "    assert test.searchElement(\"e\") == False\n",
    "    assert test.searchElement(\"f\") == False\n",
    "    print(\"✅ Binary tree correctness test passed\")\n",
    "\n",
    "binaryTreeCorrectnessTest()"
   ]
  },
  {
   "cell_type": "markdown",
   "metadata": {},
   "source": [
    "Use the cell below to implement the requested API by means of **balanced search tree**."
   ]
  },
  {
   "cell_type": "code",
   "execution_count": 16,
   "metadata": {},
   "outputs": [],
   "source": [
    "class ColourNode:\n",
    "    def __init__(self, key):\n",
    "        self.key = key\n",
    "        self.parent = None\n",
    "        self.left = None\n",
    "        self.right = None\n",
    "        self.is_red = True\n",
    "\n",
    "\n",
    "# left leaning red-black binary search tree\n",
    "class BalancedSearchTreeSet(AbstractSet):\n",
    "    def __init__(self):\n",
    "        self.root = None\n",
    "\n",
    "    def insertElement(self, key):\n",
    "        if self.root is None:\n",
    "            self.root = ColourNode(key)\n",
    "            self.root.is_red = False\n",
    "            return True\n",
    "\n",
    "        # standard traversal adding nodes to stack so we can backtrack balancing the tree\n",
    "        node = self.root\n",
    "        new_node = ColourNode(key)\n",
    "        while True:\n",
    "            if key == node.key:\n",
    "                return False\n",
    "\n",
    "            if key < node.key:\n",
    "                if node.left is None:\n",
    "                    node.left = new_node\n",
    "                    new_node.parent = node\n",
    "                    node = new_node\n",
    "                    break\n",
    "                node = node.left\n",
    "\n",
    "            elif key > node.key:\n",
    "                if node.right is None:\n",
    "                    node.right = new_node\n",
    "                    new_node.parent = node\n",
    "                    node = new_node\n",
    "                    break\n",
    "                node = node.right\n",
    "\n",
    "        # backtrack up the tree balancing it\n",
    "        while node.parent is None:\n",
    "            try:\n",
    "                if node.left is None and node.right is None:\n",
    "                    node = node.parent\n",
    "                    continue\n",
    "\n",
    "                if node.right.is_red and not node.left.is_red:\n",
    "                    node = self._left_rotation(node)\n",
    "\n",
    "                if node.left.is_red and node.right.is_red:\n",
    "                    node = self._colour_flip(node)\n",
    "\n",
    "                if node.left.left is None:\n",
    "                    continue\n",
    "\n",
    "                if node.left.is_red and node.left.left.is_red:\n",
    "                    node = self._right_rotation(node)\n",
    "\n",
    "                node = node.parent\n",
    "\n",
    "            except Exception as e:\n",
    "                print(e)\n",
    "        return True\n",
    "\n",
    "    def searchElement(self, key):\n",
    "        if self.root is None:\n",
    "            return False\n",
    "\n",
    "        node = self.root\n",
    "        while True:\n",
    "            if node is None:\n",
    "                return False\n",
    "\n",
    "            if node.key == key:\n",
    "                return True\n",
    "\n",
    "            if key < node.key:\n",
    "                node = node.left\n",
    "\n",
    "            elif key > node.key:\n",
    "                node = node.right\n",
    "\n",
    "    def _left_rotation(self, node):\n",
    "        next = node.right\n",
    "        node.right = next.left\n",
    "        next.left = node\n",
    "        next.is_red = node.is_red\n",
    "        node.is_red = True\n",
    "        return next\n",
    "\n",
    "    def _right_rotation(self, node):\n",
    "        next = node.left\n",
    "        node.left = next.right\n",
    "        next.right = node\n",
    "        next.is_red = node.is_red\n",
    "        node.is_red = True\n",
    "        return next\n",
    "\n",
    "    def _colour_flip(self, node):\n",
    "        node.left.is_red = False\n",
    "        node.right.is_red = False\n",
    "        node.is_red = True\n",
    "        return node\n",
    "\n",
    "\n",
    "\n",
    "\n"
   ]
  },
  {
   "cell_type": "code",
   "execution_count": 17,
   "metadata": {},
   "outputs": [
    {
     "name": "stdout",
     "output_type": "stream",
     "text": [
      "✅ Balanced tree correctness test passed\n"
     ]
    }
   ],
   "source": [
    "def balancedTreeCorrectnessTest():\n",
    "    test = BalancedSearchTreeSet()\n",
    "    assert test.insertElement(\"a\") == True\n",
    "    assert test.insertElement(\"b\") == True\n",
    "    assert test.insertElement(\"c\") == True\n",
    "    assert test.insertElement(\"a\") == False\n",
    "    assert test.insertElement(\"b\") == False\n",
    "    assert test.insertElement(\"c\") == False\n",
    "    assert test.searchElement(\"a\") == True\n",
    "    assert test.searchElement(\"b\") == True\n",
    "    assert test.searchElement(\"c\") == True\n",
    "    assert test.searchElement(\"d\") == False\n",
    "    assert test.searchElement(\"e\") == False\n",
    "    assert test.searchElement(\"f\") == False\n",
    "    print(\"✅ Balanced tree correctness test passed\")\n",
    "\n",
    "balancedTreeCorrectnessTest()"
   ]
  },
  {
   "cell_type": "markdown",
   "metadata": {},
   "source": [
    "Use the cell below to implement the requested API by means of **bloom filter**."
   ]
  },
  {
   "cell_type": "code",
   "execution_count": null,
   "metadata": {},
   "outputs": [],
   "source": [
    "class BloomFilterSet(AbstractSet):\n",
    "    \n",
    "    def __init__(self):\n",
    "        # ADD YOUR CODE HERE\n",
    "\n",
    "        \n",
    "        pass           \n",
    "     \n",
    "    \n",
    "        \n",
    "    def insertElement(self, element):\n",
    "        inserted = False\n",
    "        # ADD YOUR CODE HERE\n",
    "      \n",
    "        \n",
    "        return inserted\n",
    "    \n",
    "    \n",
    "\n",
    "    def searchElement(self, element):     \n",
    "        found = False\n",
    "        # ADD YOUR CODE HERE\n",
    "\n",
    "        \n",
    "        return found    "
   ]
  },
  {
   "cell_type": "markdown",
   "metadata": {},
   "source": [
    "Use the cell below to implement the **synthetic data generator** as part of your experimental framework."
   ]
  },
  {
   "cell_type": "code",
   "execution_count": null,
   "metadata": {},
   "outputs": [],
   "source": [
    "import string\n",
    "import random\n",
    "\n",
    "class TestDataGenerator(AbstractTestDataGenerator):\n",
    "    \n",
    "    def __init__(self):\n",
    "        # ADD YOUR CODE HERE\n",
    "        \n",
    "        \n",
    "        pass           \n",
    "        \n",
    "    def generateData(self, size):     \n",
    "        # ADD YOUR CODE HERE\n",
    "        data = [\"\"]*size\n",
    "        \n",
    "\n",
    "        return data   \n",
    "\n"
   ]
  },
  {
   "cell_type": "markdown",
   "metadata": {},
   "source": [
    "Use the cells below for the python code needed to **fully evaluate your implementations**, first on real data and subsequently on synthetic data (i.e., read data from test files / generate synthetic one, instantiate each of the 4 set implementations in turn, then thorouhgly experiment with insert/search operations and measure their performance)."
   ]
  },
  {
   "cell_type": "code",
   "execution_count": null,
   "metadata": {},
   "outputs": [],
   "source": [
    "import timeit\n",
    "\n",
    "# ADD YOUR TEST CODE HERE TO WORK ON REAL DATA\n",
    "\n",
    "\n",
    "\n"
   ]
  },
  {
   "cell_type": "code",
   "execution_count": null,
   "metadata": {},
   "outputs": [],
   "source": [
    "import timeit\n",
    "\n",
    "# ADD YOUR TEST CODE HERE TO WORK ON SYNTHETIC DATA\n",
    "\n",
    "\n",
    "\n"
   ]
  },
  {
   "cell_type": "code",
   "execution_count": null,
   "metadata": {},
   "outputs": [],
   "source": []
  },
  {
   "cell_type": "code",
   "execution_count": null,
   "metadata": {},
   "outputs": [],
   "source": []
  },
  {
   "cell_type": "code",
   "execution_count": null,
   "metadata": {},
   "outputs": [],
   "source": []
  }
 ],
 "metadata": {
  "kernelspec": {
   "display_name": "Python 3",
   "language": "python",
   "name": "python3"
  },
  "language_info": {
   "codemirror_mode": {
    "name": "ipython",
    "version": 3
   },
   "file_extension": ".py",
   "mimetype": "text/x-python",
   "name": "python",
   "nbconvert_exporter": "python",
   "pygments_lexer": "ipython3",
   "version": "3.8.5"
  },
  "vscode": {
   "interpreter": {
    "hash": "f035882dd2873c74246aea829ebe4036fb2f45a1cc49a7b64436e0cf3c2248bc"
   }
  }
 },
 "nbformat": 4,
 "nbformat_minor": 4
}
